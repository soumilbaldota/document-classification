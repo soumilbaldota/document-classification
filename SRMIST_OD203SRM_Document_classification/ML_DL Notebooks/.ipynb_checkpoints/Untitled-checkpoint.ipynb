{
 "cells": [
  {
   "cell_type": "code",
   "execution_count": 32,
   "id": "b2e5a78d",
   "metadata": {},
   "outputs": [
    {
     "name": "stdout",
     "output_type": "stream",
     "text": [
      "Collecting gensim"
     ]
    },
    {
     "name": "stderr",
     "output_type": "stream",
     "text": [
      "WARNING: Ignoring invalid distribution -illow (c:\\users\\soumi\\.conda\\envs\\tf\\lib\\site-packages)\n",
      "WARNING: Ignoring invalid distribution -illow (c:\\users\\soumi\\.conda\\envs\\tf\\lib\\site-packages)\n",
      "WARNING: Ignoring invalid distribution -illow (c:\\users\\soumi\\.conda\\envs\\tf\\lib\\site-packages)\n",
      "WARNING: Ignoring invalid distribution -illow (c:\\users\\soumi\\.conda\\envs\\tf\\lib\\site-packages)\n",
      "WARNING: Ignoring invalid distribution -illow (c:\\users\\soumi\\.conda\\envs\\tf\\lib\\site-packages)\n",
      "WARNING: Ignoring invalid distribution -illow (c:\\users\\soumi\\.conda\\envs\\tf\\lib\\site-packages)\n",
      "WARNING: Ignoring invalid distribution -illow (c:\\users\\soumi\\.conda\\envs\\tf\\lib\\site-packages)\n",
      "\n",
      "[notice] A new release of pip available: 23.0 -> 23.1.2\n",
      "[notice] To update, run: python.exe -m pip install --upgrade pip\n"
     ]
    },
    {
     "name": "stdout",
     "output_type": "stream",
     "text": [
      "\n",
      "  Downloading gensim-4.3.1-cp39-cp39-win_amd64.whl (24.0 MB)\n",
      "     ---------------------------------------- 24.0/24.0 MB 3.5 MB/s eta 0:00:00\n",
      "Requirement already satisfied: smart-open>=1.8.1 in c:\\users\\soumi\\.conda\\envs\\tf\\lib\\site-packages (from gensim) (6.3.0)\n",
      "Requirement already satisfied: numpy>=1.18.5 in c:\\users\\soumi\\.conda\\envs\\tf\\lib\\site-packages (from gensim) (1.22.4)\n",
      "Requirement already satisfied: scipy>=1.7.0 in c:\\users\\soumi\\.conda\\envs\\tf\\lib\\site-packages (from gensim) (1.7.3)\n",
      "Installing collected packages: gensim\n",
      "Successfully installed gensim-4.3.1\n"
     ]
    }
   ],
   "source": [
    "!pip install gensim"
   ]
  },
  {
   "cell_type": "code",
   "execution_count": 61,
   "id": "630f12fc",
   "metadata": {},
   "outputs": [],
   "source": [
    "import gensim\n",
    "from gensim.models import Word2Vec\n",
    "from scipy import spatial\n",
    "from sklearn.feature_extraction.text import TfidfVectorizer\n",
    "from sklearn.metrics.pairwise import cosine_similarity\n",
    "model = gensim.models.KeyedVectors.load_word2vec_format('GoogleNews-vectors-negative300.bin', binary=True)\n",
    "\n",
    "def levDistance(string1, string2):\n",
    "    m, n = len(string1), len(string2)\n",
    "    curr = list(range(n+1))\n",
    "    for i in range(m):\n",
    "        prev, curr = curr, [i+1] + [0] * n\n",
    "        for j in range(n):\n",
    "            curr[j+1] = prev[j] if string1[i] == string2[j] else min(curr[j], prev[j], prev[j+1]) + 1\n",
    "    return curr[n]\n",
    "\n",
    "\n",
    "def cosDistance(string1, string2):\n",
    "    vector1 = sum([model[word] for word in string1.split()]) / len(string1.split())\n",
    "    vector2 = sum([model[word] for word in string2.split()]) / len(string2.split())\n",
    "    cosine_sim = 1 - spatial.distance.cosine(vector1, vector2)"
   ]
  },
  {
   "cell_type": "code",
   "execution_count": 64,
   "id": "95cc49a2",
   "metadata": {},
   "outputs": [],
   "source": [
    "import os\n",
    "template_directory = \"templates\"\n",
    "files = os.listdir(template_directory)\n",
    "template_dict = {'entertainment':set(), 'finance':set(), 'travel':set(), 'insurance':set(), 'medical':set()}\n",
    "for folder_name in files:\n",
    "    folder_path = os.path.join(template_directory, folder_name)\n",
    "    for file_name in os.listdir(folder_path):\n",
    "        file_path = os.path.join(folder_path, file_name)\n",
    "        with open(file_path, 'r') as file:\n",
    "            template_content = file.read()\n",
    "            template_dict[folder_name].add(template_content)\n"
   ]
  },
  {
   "cell_type": "code",
   "execution_count": 65,
   "id": "43af6cd3",
   "metadata": {},
   "outputs": [
    {
     "name": "stdout",
     "output_type": "stream",
     "text": [
      "entertainment\n",
      "travel\n",
      "insurance\n",
      "medical\n"
     ]
    }
   ],
   "source": [
    "test_travel = \"Web Boarding Pass Departure Terminal : T1 BALDOTA/SOUMIL PNR : K9C9TD Seq : 67 From : Chennai (T1) To: Mumbai (T1) Flight Gate Seat Boarding Time Boarding Zone QP 1116 -- 20E 0930 Hrs 3 Date : 07 JUN 2023 Departure : 1030 Hrs Services : ASSN Gate is subject to change and will close 25 minutes prior to departure Book on AkasaAir.com or our mobile app for special deals and offers BALDOTA/SOUMIL From : Chennai (T1) To : Mumbai (T1) PNR : K9C9TD Seq : 67 Flight : QP 1116 Date : 07 JUN 2023 Seat : 20E Gate : -- AkasaAir.com\"\n",
    "test_entertainment = 'Tu Jhoothi Main Makkaar (U/A) Hindi, 2D Sun, 19 Mar 103:20 PM INOX: LUXE Phoenix Market City, Velachery 5 Ticket(s) SCREEN 4 EL-E7,E6,E5,E4,E3 BOOKING ID: T6ADBD6 Cancellation not available for this venue Contact support Total Amount Rs.1214.80 4(5 2'\n",
    "test_insurance = \"Dear Ms Sangeetha Sudhir Baldota, Thank You for trusting us as your preferred Health Insurer. At Care Health insurance, it is our endeavor to make quality healthcare easily accessible for our customers as well as ensure a truly hassle-free claim servicing experience To help you understand our services better, please go through the 'Know your policy better' kit that accompanies this letter and constitutes the following l Policy certificate l Premium Acknowledgement l Key Policy Information l Claim Process l Also appended herewith for your convenience is your Care Health Card. This card should be presented at the time of an emergency or a planned hospitalization, to avail cashless treatment at our network of over 16000+ cashless network pan-India. To further simplify procedures, we're online as well. Visit our portal www.careinsurance.com and view network hospitals across the country, cashless procedures and do much more. For any assistance, please feel free to write to us at https://www.careinsurance.com/contact-us.html. Once again, we thank you for this opportunity to serve you, and wish you and your loved ones good health always! Team Care Health Insurance Policy Terms and Conditions- https://bit.ly/3rFY1Du and also available on Customer App\"\n",
    "test_medical = 'BIOCHEMISTRY SPECIAL TEST -- SIN \\ LRN Name Age Gender Specimen W/BNo/RefNo Reported on Mr. SUDHIR Z BALDOTA ANM1.0000672701 8TH FLOOR P WARD/8047 55Yr 10Mth 18Days Male 3724109 \\ 1597604 UHID Plasma *ANM1.0000672701* 03-FEB-2023 07:20:07 AM ANMIP106471 Ref Doctor Dr.Rahul Gupta Dr Charan Reddy Dr Rajesh Matta Collected on 03-FEB-2023 06:52:00 AM Received on 03-FEB-2023 06:53:06 AM : : : : : / : : : : : : TEST NAME RESULT BIOLOGICAL REFERENCE INTERVALS UNITS HS Troponin I - Plasma (Chemiluminescent Microparticle Immuno Assay (CMIA)) 99th Percentile - Overall : ≤26.2 pg/mL pg/mL Healthy Males ≤ 34.2 pg/mL Healthy Females ≤15.6 pg/mL TROPONIN-I HIGH SENSITIVE 17.3 Method: Chemiluminescent Microparticle Immuno Assay (CMIA)\" Kindly correlate the values with clinical findings. Repeat testing for TROPONIN-I HIGH SENSITIVE after 3 hours of initial assessment is recommended.Kindly correlate the values with clinical findings. Repeat testing for TROPONIN-I HIGH SENSITIVE after 3 hours of initial assessment is recommended. Comments : Report Status:Final * END OF REPORT * CHECKED BY Dr Nandini Vya'\n",
    "# test_finance = ''\n",
    "def predict(test):\n",
    "    min_dist = 1000000000\n",
    "    min_dist_label = ''\n",
    "    for x in template_dict:\n",
    "        for y in template_dict[x]:\n",
    "            dist = levDistance(test, y)\n",
    "            if(dist < min_dist):\n",
    "                min_dist = dist\n",
    "                min_dist_label = x\n",
    "    return min_dist_label\n",
    "                \n",
    "print(predict(test_entertainment))\n",
    "print(predict(test_travel))\n",
    "print(predict(test_insurance))\n",
    "print(predict(test_medical))"
   ]
  },
  {
   "cell_type": "code",
   "execution_count": 55,
   "id": "f8f8e4ee",
   "metadata": {},
   "outputs": [
    {
     "data": {
      "text/plain": [
       "'travel'"
      ]
     },
     "execution_count": 55,
     "metadata": {},
     "output_type": "execute_result"
    }
   ],
   "source": [
    "min_dist_label"
   ]
  },
  {
   "cell_type": "code",
   "execution_count": null,
   "id": "459a152f",
   "metadata": {},
   "outputs": [],
   "source": []
  }
 ],
 "metadata": {
  "kernelspec": {
   "display_name": "Python 3 (ipykernel)",
   "language": "python",
   "name": "python3"
  },
  "language_info": {
   "codemirror_mode": {
    "name": "ipython",
    "version": 3
   },
   "file_extension": ".py",
   "mimetype": "text/x-python",
   "name": "python",
   "nbconvert_exporter": "python",
   "pygments_lexer": "ipython3",
   "version": "3.9.16"
  }
 },
 "nbformat": 4,
 "nbformat_minor": 5
}
