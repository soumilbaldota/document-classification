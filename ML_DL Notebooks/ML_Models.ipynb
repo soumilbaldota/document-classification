{
 "cells": [
  {
   "cell_type": "code",
   "execution_count": 1,
   "id": "cef1547a",
   "metadata": {},
   "outputs": [],
   "source": [
    "import pandas as pd\n",
    "import os\n",
    "from sklearn.feature_extraction.text import CountVectorizer, TfidfTransformer\n",
    "from sklearn.model_selection import train_test_split\n",
    "from sklearn.linear_model import LogisticRegression\n",
    "from sklearn.metrics import accuracy_score\n",
    "os.getcwd()\n",
    "entertainment=  pd.read_csv('Dataset/Entertainment/Entertainment_Dataset.csv')\n",
    "entertainment.columns = ['unnamed', 'values', 'category']\n",
    "insurance=  pd.read_csv('./Dataset/insurance/insurance_dataset.csv')\n",
    "insurance.columns = ['unnamed', 'values', 'category']\n",
    "finance=  pd.read_csv('./Dataset/finance/finance_dataset.csv')\n",
    "finance.columns = ['unnamed', 'values', 'category']\n",
    "travel = pd.read_csv('./Dataset/travel/Travel_Dataset.csv')\n",
    "travel.columns = ['unnamed', 'values', 'category']\n",
    "medical = pd.read_csv('./Dataset/Medical/medical_dataset.csv')\n",
    "medical.columns = ['unnamed', 'values', 'category']\n",
    "l = [insurance, entertainment, finance, travel, medical]"
   ]
  },
  {
   "cell_type": "code",
   "execution_count": 2,
   "id": "266d0f9a",
   "metadata": {},
   "outputs": [
    {
     "data": {
      "text/html": [
       "<div>\n",
       "<style scoped>\n",
       "    .dataframe tbody tr th:only-of-type {\n",
       "        vertical-align: middle;\n",
       "    }\n",
       "\n",
       "    .dataframe tbody tr th {\n",
       "        vertical-align: top;\n",
       "    }\n",
       "\n",
       "    .dataframe thead th {\n",
       "        text-align: right;\n",
       "    }\n",
       "</style>\n",
       "<table border=\"1\" class=\"dataframe\">\n",
       "  <thead>\n",
       "    <tr style=\"text-align: right;\">\n",
       "      <th></th>\n",
       "      <th>values</th>\n",
       "      <th>category</th>\n",
       "    </tr>\n",
       "  </thead>\n",
       "  <tbody>\n",
       "    <tr>\n",
       "      <th>0</th>\n",
       "      <td>can you borrow against globe Life Insurancebor...</td>\n",
       "      <td>insurance</td>\n",
       "    </tr>\n",
       "    <tr>\n",
       "      <th>1</th>\n",
       "      <td>do Medicare cover my spouseif your spouse have...</td>\n",
       "      <td>insurance</td>\n",
       "    </tr>\n",
       "    <tr>\n",
       "      <th>2</th>\n",
       "      <td>what happen when you change homeowner insuranc...</td>\n",
       "      <td>insurance</td>\n",
       "    </tr>\n",
       "    <tr>\n",
       "      <th>3</th>\n",
       "      <td>what be a typical renter insurance costI be su...</td>\n",
       "      <td>insurance</td>\n",
       "    </tr>\n",
       "    <tr>\n",
       "      <th>4</th>\n",
       "      <td>what be car insurance base oncar insurance rat...</td>\n",
       "      <td>insurance</td>\n",
       "    </tr>\n",
       "    <tr>\n",
       "      <th>...</th>\n",
       "      <td>...</td>\n",
       "      <td>...</td>\n",
       "    </tr>\n",
       "    <tr>\n",
       "      <th>13195</th>\n",
       "      <td>([\"Intact function of the Forkhead Box P2 (FOX...</td>\n",
       "      <td>medical</td>\n",
       "    </tr>\n",
       "    <tr>\n",
       "      <th>13196</th>\n",
       "      <td>([\"Studies on ADHD in educational settings ind...</td>\n",
       "      <td>medical</td>\n",
       "    </tr>\n",
       "    <tr>\n",
       "      <th>13197</th>\n",
       "      <td>(['The mechanisms underlying cerebellar learni...</td>\n",
       "      <td>medical</td>\n",
       "    </tr>\n",
       "    <tr>\n",
       "      <th>13198</th>\n",
       "      <td>(['Withania somnifera root extract has been us...</td>\n",
       "      <td>medical</td>\n",
       "    </tr>\n",
       "    <tr>\n",
       "      <th>13199</th>\n",
       "      <td>(['Deep brain stimulation (DBS) has been found...</td>\n",
       "      <td>medical</td>\n",
       "    </tr>\n",
       "  </tbody>\n",
       "</table>\n",
       "<p>60552 rows × 2 columns</p>\n",
       "</div>"
      ],
      "text/plain": [
       "                                                  values   category\n",
       "0      can you borrow against globe Life Insurancebor...  insurance\n",
       "1      do Medicare cover my spouseif your spouse have...  insurance\n",
       "2      what happen when you change homeowner insuranc...  insurance\n",
       "3      what be a typical renter insurance costI be su...  insurance\n",
       "4      what be car insurance base oncar insurance rat...  insurance\n",
       "...                                                  ...        ...\n",
       "13195  ([\"Intact function of the Forkhead Box P2 (FOX...    medical\n",
       "13196  ([\"Studies on ADHD in educational settings ind...    medical\n",
       "13197  (['The mechanisms underlying cerebellar learni...    medical\n",
       "13198  (['Withania somnifera root extract has been us...    medical\n",
       "13199  (['Deep brain stimulation (DBS) has been found...    medical\n",
       "\n",
       "[60552 rows x 2 columns]"
      ]
     },
     "execution_count": 2,
     "metadata": {},
     "output_type": "execute_result"
    }
   ],
   "source": [
    "df = pd.concat(l)\n",
    "df.drop('unnamed', axis = 1)"
   ]
  },
  {
   "cell_type": "code",
   "execution_count": 4,
   "id": "0f95c77f",
   "metadata": {},
   "outputs": [
    {
     "data": {
      "text/plain": [
       "Counter({'insurance': 1000,\n",
       "         'entertainment': 386,\n",
       "         'finance': 44999,\n",
       "         nan: 10,\n",
       "         'travel': 957,\n",
       "         'medical': 13200})"
      ]
     },
     "execution_count": 4,
     "metadata": {},
     "output_type": "execute_result"
    }
   ],
   "source": [
    "from collections import Counter\n",
    "Counter(df['category'])"
   ]
  },
  {
   "cell_type": "code",
   "execution_count": 5,
   "id": "40f27f43",
   "metadata": {},
   "outputs": [
    {
     "name": "stdout",
     "output_type": "stream",
     "text": [
      "(60552, 194122)\n"
     ]
    }
   ],
   "source": [
    "vectorizer = CountVectorizer(stop_words='english')\n",
    "X = vectorizer.fit_transform(df['values'])\n",
    "print(X.shape)"
   ]
  },
  {
   "cell_type": "code",
   "execution_count": 6,
   "id": "d79b9c83",
   "metadata": {},
   "outputs": [
    {
     "name": "stdout",
     "output_type": "stream",
     "text": [
      "(60552, 194122)\n"
     ]
    }
   ],
   "source": [
    "tfidf_transformer = TfidfTransformer()\n",
    "X = tfidf_transformer.fit_transform(X)\n",
    "print(X.shape)"
   ]
  },
  {
   "cell_type": "code",
   "execution_count": 8,
   "id": "6efb5141",
   "metadata": {},
   "outputs": [],
   "source": [
    "categories = list(dict(Counter(df['category'])).keys())"
   ]
  },
  {
   "cell_type": "code",
   "execution_count": 9,
   "id": "dca1ce86",
   "metadata": {},
   "outputs": [],
   "source": [
    "mp = {categories[x]:x for x in range(len(categories))}\n",
    "\n",
    "y_true = []\n",
    "for x in df['category']:\n",
    "    y_true.append(mp[x])"
   ]
  },
  {
   "cell_type": "code",
   "execution_count": 10,
   "id": "ff4c63c3",
   "metadata": {},
   "outputs": [
    {
     "data": {
      "text/plain": [
       "(60552,)"
      ]
     },
     "execution_count": 10,
     "metadata": {},
     "output_type": "execute_result"
    }
   ],
   "source": [
    "import numpy as np\n",
    "y_true = np.array(y_true)\n",
    "y_true.shape"
   ]
  },
  {
   "cell_type": "code",
   "execution_count": 11,
   "id": "008f137e",
   "metadata": {
    "scrolled": true
   },
   "outputs": [],
   "source": [
    "X_train, X_test, y_train, y_test = train_test_split(X, y_true, test_size=0.2, random_state=42)"
   ]
  },
  {
   "cell_type": "code",
   "execution_count": 12,
   "id": "50858dc5",
   "metadata": {},
   "outputs": [
    {
     "data": {
      "text/plain": [
       "LogisticRegression(max_iter=300)"
      ]
     },
     "execution_count": 12,
     "metadata": {},
     "output_type": "execute_result"
    }
   ],
   "source": [
    "# Train the model\n",
    "clf = LogisticRegression(max_iter = 300)\n",
    "clf.fit(X_train, y_train)"
   ]
  },
  {
   "cell_type": "code",
   "execution_count": 13,
   "id": "c68b695b",
   "metadata": {},
   "outputs": [
    {
     "name": "stdout",
     "output_type": "stream",
     "text": [
      "Accuracy: 0.794493364741443\n",
      "roc_auc_score: 0.941083674013868\n",
      "confusion matrix: \n",
      " [[ 196    0   12    0    0    0]\n",
      " [   0   61   12    0    0    0]\n",
      " [   3    0 9020    0    0    1]\n",
      " [   0    0    3    0    0    0]\n",
      " [   0    0    1    0  193    0]\n",
      " [   0    0   14    0    0 2595]]\n"
     ]
    }
   ],
   "source": [
    "# Evaluate the model\n",
    "from sklearn.metrics import balanced_accuracy_score as bas\n",
    "from sklearn.metrics import roc_auc_score as ras\n",
    "from sklearn.metrics import confusion_matrix as cm\n",
    "\n",
    "y_pred = clf.predict(X_test)\n",
    "\n",
    "accuracy = bas(y_test, y_pred)\n",
    "print(f\"Accuracy: {accuracy}\")\n",
    "\n",
    "conf_m = cm(y_test, y_pred)\n",
    "\n",
    "\n",
    "y_pred = clf.predict_proba(X_test)\n",
    "accuracy = ras(y_test, y_pred, multi_class='ovr')\n",
    "print(f\"roc_auc_score: {accuracy}\")\n",
    "\n",
    "print(f\"confusion matrix: \\n {conf_m}\")"
   ]
  },
  {
   "cell_type": "code",
   "execution_count": 14,
   "id": "1a2de9c0",
   "metadata": {},
   "outputs": [
    {
     "data": {
      "text/plain": [
       "BernoulliNB()"
      ]
     },
     "execution_count": 14,
     "metadata": {},
     "output_type": "execute_result"
    }
   ],
   "source": [
    "from sklearn.naive_bayes import BernoulliNB\n",
    "clf = BernoulliNB()\n",
    "clf.fit(X_train, y_train)"
   ]
  },
  {
   "cell_type": "code",
   "execution_count": 15,
   "id": "1e0a1667",
   "metadata": {},
   "outputs": [
    {
     "name": "stdout",
     "output_type": "stream",
     "text": [
      "Accuracy: 0.33517647000516965\n",
      "roc_auc_score: 0.9000721546795232\n",
      "confusion matrix: \n",
      " [[   1    0  206    0    0    1]\n",
      " [   5    4   32    0    0   32]\n",
      " [  14    5 9001    0    0    4]\n",
      " [   0    0    2    0    0    1]\n",
      " [   0    0  194    0    0    0]\n",
      " [   0    0  120    0    0 2489]]\n"
     ]
    }
   ],
   "source": [
    "y_pred = clf.predict(X_test)\n",
    "\n",
    "accuracy = bas(y_test, y_pred)\n",
    "print(f\"Accuracy: {accuracy}\")\n",
    "\n",
    "conf_m = cm(y_test, y_pred)\n",
    "\n",
    "\n",
    "y_pred = clf.predict_proba(X_test)\n",
    "accuracy = ras(y_test, y_pred, multi_class='ovr')\n",
    "print(f\"roc_auc_score: {accuracy}\")\n",
    "\n",
    "print(f\"confusion matrix: \\n {conf_m}\")"
   ]
  },
  {
   "cell_type": "code",
   "execution_count": 21,
   "id": "84bc7602",
   "metadata": {},
   "outputs": [
    {
     "data": {
      "text/plain": [
       "CalibratedClassifierCV(base_estimator=LinearSVC())"
      ]
     },
     "execution_count": 21,
     "metadata": {},
     "output_type": "execute_result"
    }
   ],
   "source": [
    "from sklearn import svm\n",
    "from sklearn.calibration import CalibratedClassifierCV\n",
    "clf = CalibratedClassifierCV(svm.LinearSVC())\n",
    "clf.fit(X_train, y_train)"
   ]
  },
  {
   "cell_type": "code",
   "execution_count": 22,
   "id": "442ebc33",
   "metadata": {},
   "outputs": [
    {
     "name": "stdout",
     "output_type": "stream",
     "text": [
      "Accuracy: 0.8862394425190022\n",
      "roc_auc_score: 0.9953047695525984\n",
      "confusion matrix: \n",
      " [[ 208    0    0    0    0    0]\n",
      " [   0   72    1    0    0    0]\n",
      " [   3    0 9018    0    0    3]\n",
      " [   0    0    2    1    0    0]\n",
      " [   0    0    0    0  194    0]\n",
      " [   0    0    4    0    0 2605]]\n"
     ]
    }
   ],
   "source": [
    "y_pred = clf.predict(X_test)\n",
    "\n",
    "accuracy = bas(y_test, y_pred)\n",
    "print(f\"Accuracy: {accuracy}\")\n",
    "\n",
    "conf_m = cm(y_test, y_pred)\n",
    "\n",
    "\n",
    "y_pred = clf.predict_proba(X_test)\n",
    "accuracy = ras(y_test, y_pred, multi_class='ovr')\n",
    "print(f\"roc_auc_score: {accuracy}\")\n",
    "\n",
    "print(f\"confusion matrix: \\n {conf_m}\")"
   ]
  },
  {
   "cell_type": "code",
   "execution_count": 18,
   "id": "b90abc13",
   "metadata": {},
   "outputs": [
    {
     "data": {
      "text/plain": [
       "CalibratedClassifierCV(base_estimator=Pipeline(steps=[('standardscaler',\n",
       "                                                       StandardScaler(with_mean=False)),\n",
       "                                                      ('sgdclassifier',\n",
       "                                                       SGDClassifier())]))"
      ]
     },
     "execution_count": 18,
     "metadata": {},
     "output_type": "execute_result"
    }
   ],
   "source": [
    "from sklearn.linear_model import SGDClassifier\n",
    "from sklearn.preprocessing import StandardScaler\n",
    "from sklearn.pipeline import make_pipeline\n",
    "clf = CalibratedClassifierCV(make_pipeline(StandardScaler(with_mean=False),\n",
    "                    SGDClassifier(max_iter=1000, tol=1e-3)))\n",
    "clf.fit(X_train, y_train)"
   ]
  },
  {
   "cell_type": "code",
   "execution_count": 19,
   "id": "a9bf7fa7",
   "metadata": {},
   "outputs": [
    {
     "name": "stdout",
     "output_type": "stream",
     "text": [
      "Accuracy: 0.34863920991913444\n",
      "roc_auc_score: 0.9602332341459827\n",
      "confusion matrix: \n",
      " [[  38    0  170    0    0    0]\n",
      " [   0   10   63    0    0    0]\n",
      " [   0    0 9024    0    0    0]\n",
      " [   0    0    3    0    0    0]\n",
      " [   0    0  166    0   28    0]\n",
      " [   0    0  971    0    0 1638]]\n"
     ]
    }
   ],
   "source": [
    "y_pred = clf.predict(X_test)\n",
    "\n",
    "accuracy = bas(y_test, y_pred)\n",
    "print(f\"Accuracy: {accuracy}\")\n",
    "\n",
    "conf_m = cm(y_test, y_pred)\n",
    "\n",
    "y_pred = clf.predict_proba(X_test)\n",
    "accuracy = ras(y_test, y_pred, multi_class='ovr')\n",
    "print(f\"roc_auc_score: {accuracy}\")\n",
    "\n",
    "print(f\"confusion matrix: \\n {conf_m}\")"
   ]
  },
  {
   "cell_type": "code",
   "execution_count": 24,
   "id": "0bab9ffb",
   "metadata": {},
   "outputs": [
    {
     "name": "stdout",
     "output_type": "stream",
     "text": [
      "finance\n",
      "finance\n",
      "insurance\n",
      "finance\n",
      "finance\n",
      "medical\n",
      "medical\n",
      "finance\n",
      "finance\n",
      "insurance\n"
     ]
    }
   ],
   "source": [
    "new_data = [\n",
    "            'flights from mumbai to japan',\n",
    "           '5000 rupees dollar to be transferred tommorow',\n",
    "           'health insurance is realy expensive',\n",
    "           'the pericardium is swollen',\n",
    "           'the Lord Of The Rings is a great movie',\n",
    "           'liver surgery is needed',\n",
    "           'The largest organ on the body is the skin also known as derma',\n",
    "            'the train is late again',\n",
    "            'let us get on the bus',\n",
    "            'we can go to the train station using the car'\n",
    "           ]\n",
    "X_new = vectorizer.transform(new_data)\n",
    "X_new = tfidf_transformer.transform(X_new)\n",
    "y_new = clf.predict(X_new)\n",
    "for x in y_new:\n",
    "    print(categories[x])"
   ]
  },
  {
   "cell_type": "code",
   "execution_count": null,
   "id": "35cf1380",
   "metadata": {},
   "outputs": [],
   "source": []
  }
 ],
 "metadata": {
  "kernelspec": {
   "display_name": "Python 3 (ipykernel)",
   "language": "python",
   "name": "python3"
  },
  "language_info": {
   "codemirror_mode": {
    "name": "ipython",
    "version": 3
   },
   "file_extension": ".py",
   "mimetype": "text/x-python",
   "name": "python",
   "nbconvert_exporter": "python",
   "pygments_lexer": "ipython3",
   "version": "3.9.16"
  }
 },
 "nbformat": 4,
 "nbformat_minor": 5
}
